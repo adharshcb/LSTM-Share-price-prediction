{
  "nbformat": 4,
  "nbformat_minor": 0,
  "metadata": {
    "colab": {
      "provenance": [],
      "collapsed_sections": [],
      "mount_file_id": "1yxxNsl1bp_8K5ENuqVELsc0x5PenwfK4",
      "authorship_tag": "ABX9TyOfPjr+tMypRmJas4bY8oP3"
    },
    "kernelspec": {
      "name": "python3",
      "display_name": "Python 3"
    },
    "language_info": {
      "name": "python"
    },
    "accelerator": "GPU",
    "gpuClass": "standard"
  },
  "cells": [
    {
      "cell_type": "code",
      "execution_count": 1,
      "metadata": {
        "id": "VGiA9ilZkJJY"
      },
      "outputs": [],
      "source": [
        "import pandas_datareader as pdr\n",
        "# to create dataframe from an api response\n",
        "# a collection of libraries to access data(tiingo in this problem)"
      ]
    },
    {
      "cell_type": "code",
      "source": [
        "df = pdr.get_data_tiingo('META',api_key='240e46cda321e42af3f244480052b1c1b4e82fd4')\n",
        "# first parameter is share name and key should be replaced with real api key"
      ],
      "metadata": {
        "id": "siQMEuMMki1W",
        "colab": {
          "base_uri": "https://localhost:8080/"
        },
        "outputId": "88a00a1d-48f5-405a-8d0c-4353c010c88f"
      },
      "execution_count": 2,
      "outputs": [
        {
          "output_type": "stream",
          "name": "stderr",
          "text": [
            "/usr/local/lib/python3.7/dist-packages/pandas_datareader/tiingo.py:234: FutureWarning: In a future version of pandas all arguments of concat except for the argument 'objs' will be keyword-only\n",
            "  return pd.concat(dfs, self._concat_axis)\n"
          ]
        }
      ]
    },
    {
      "cell_type": "code",
      "source": [
        "df.to_csv('aapl.csv')\n",
        "# saving df as csv file"
      ],
      "metadata": {
        "id": "oR3X8tbW-agi"
      },
      "execution_count": 3,
      "outputs": []
    },
    {
      "cell_type": "code",
      "source": [
        "import pandas as pd\n",
        "# for data cleaning"
      ],
      "metadata": {
        "id": "z0WnY8TU-6uv"
      },
      "execution_count": 4,
      "outputs": []
    },
    {
      "cell_type": "code",
      "source": [
        "df = pd.read_csv('aapl.csv')"
      ],
      "metadata": {
        "id": "5ul-eTYe-89w"
      },
      "execution_count": 5,
      "outputs": []
    },
    {
      "cell_type": "code",
      "source": [
        "df.head()"
      ],
      "metadata": {
        "colab": {
          "base_uri": "https://localhost:8080/",
          "height": 250
        },
        "id": "xHfBrVfilP0z",
        "outputId": "d568883e-5224-43fc-9fc8-33b8e7ee146f"
      },
      "execution_count": 6,
      "outputs": [
        {
          "output_type": "execute_result",
          "data": {
            "text/plain": [
              "  symbol                       date   close    high     low    open    volume  \\\n",
              "0   META  2017-11-13 00:00:00+00:00  178.77  179.04  177.30  177.50   9431449   \n",
              "1   META  2017-11-14 00:00:00+00:00  178.07  178.97  177.18  178.13   9465112   \n",
              "2   META  2017-11-15 00:00:00+00:00  177.95  178.57  176.40  176.66  10131051   \n",
              "3   META  2017-11-16 00:00:00+00:00  179.59  179.83  178.50  178.76  15230062   \n",
              "4   META  2017-11-17 00:00:00+00:00  179.00  179.98  178.90  179.30  12722802   \n",
              "\n",
              "   adjClose  adjHigh  adjLow  adjOpen  adjVolume  divCash  splitFactor  \n",
              "0    178.77   179.04  177.30   177.50    9431449      0.0          1.0  \n",
              "1    178.07   178.97  177.18   178.13    9465112      0.0          1.0  \n",
              "2    177.95   178.57  176.40   176.66   10131051      0.0          1.0  \n",
              "3    179.59   179.83  178.50   178.76   15230062      0.0          1.0  \n",
              "4    179.00   179.98  178.90   179.30   12722802      0.0          1.0  "
            ],
            "text/html": [
              "\n",
              "  <div id=\"df-4094cd69-98b3-4592-90b7-14490eada90c\">\n",
              "    <div class=\"colab-df-container\">\n",
              "      <div>\n",
              "<style scoped>\n",
              "    .dataframe tbody tr th:only-of-type {\n",
              "        vertical-align: middle;\n",
              "    }\n",
              "\n",
              "    .dataframe tbody tr th {\n",
              "        vertical-align: top;\n",
              "    }\n",
              "\n",
              "    .dataframe thead th {\n",
              "        text-align: right;\n",
              "    }\n",
              "</style>\n",
              "<table border=\"1\" class=\"dataframe\">\n",
              "  <thead>\n",
              "    <tr style=\"text-align: right;\">\n",
              "      <th></th>\n",
              "      <th>symbol</th>\n",
              "      <th>date</th>\n",
              "      <th>close</th>\n",
              "      <th>high</th>\n",
              "      <th>low</th>\n",
              "      <th>open</th>\n",
              "      <th>volume</th>\n",
              "      <th>adjClose</th>\n",
              "      <th>adjHigh</th>\n",
              "      <th>adjLow</th>\n",
              "      <th>adjOpen</th>\n",
              "      <th>adjVolume</th>\n",
              "      <th>divCash</th>\n",
              "      <th>splitFactor</th>\n",
              "    </tr>\n",
              "  </thead>\n",
              "  <tbody>\n",
              "    <tr>\n",
              "      <th>0</th>\n",
              "      <td>META</td>\n",
              "      <td>2017-11-13 00:00:00+00:00</td>\n",
              "      <td>178.77</td>\n",
              "      <td>179.04</td>\n",
              "      <td>177.30</td>\n",
              "      <td>177.50</td>\n",
              "      <td>9431449</td>\n",
              "      <td>178.77</td>\n",
              "      <td>179.04</td>\n",
              "      <td>177.30</td>\n",
              "      <td>177.50</td>\n",
              "      <td>9431449</td>\n",
              "      <td>0.0</td>\n",
              "      <td>1.0</td>\n",
              "    </tr>\n",
              "    <tr>\n",
              "      <th>1</th>\n",
              "      <td>META</td>\n",
              "      <td>2017-11-14 00:00:00+00:00</td>\n",
              "      <td>178.07</td>\n",
              "      <td>178.97</td>\n",
              "      <td>177.18</td>\n",
              "      <td>178.13</td>\n",
              "      <td>9465112</td>\n",
              "      <td>178.07</td>\n",
              "      <td>178.97</td>\n",
              "      <td>177.18</td>\n",
              "      <td>178.13</td>\n",
              "      <td>9465112</td>\n",
              "      <td>0.0</td>\n",
              "      <td>1.0</td>\n",
              "    </tr>\n",
              "    <tr>\n",
              "      <th>2</th>\n",
              "      <td>META</td>\n",
              "      <td>2017-11-15 00:00:00+00:00</td>\n",
              "      <td>177.95</td>\n",
              "      <td>178.57</td>\n",
              "      <td>176.40</td>\n",
              "      <td>176.66</td>\n",
              "      <td>10131051</td>\n",
              "      <td>177.95</td>\n",
              "      <td>178.57</td>\n",
              "      <td>176.40</td>\n",
              "      <td>176.66</td>\n",
              "      <td>10131051</td>\n",
              "      <td>0.0</td>\n",
              "      <td>1.0</td>\n",
              "    </tr>\n",
              "    <tr>\n",
              "      <th>3</th>\n",
              "      <td>META</td>\n",
              "      <td>2017-11-16 00:00:00+00:00</td>\n",
              "      <td>179.59</td>\n",
              "      <td>179.83</td>\n",
              "      <td>178.50</td>\n",
              "      <td>178.76</td>\n",
              "      <td>15230062</td>\n",
              "      <td>179.59</td>\n",
              "      <td>179.83</td>\n",
              "      <td>178.50</td>\n",
              "      <td>178.76</td>\n",
              "      <td>15230062</td>\n",
              "      <td>0.0</td>\n",
              "      <td>1.0</td>\n",
              "    </tr>\n",
              "    <tr>\n",
              "      <th>4</th>\n",
              "      <td>META</td>\n",
              "      <td>2017-11-17 00:00:00+00:00</td>\n",
              "      <td>179.00</td>\n",
              "      <td>179.98</td>\n",
              "      <td>178.90</td>\n",
              "      <td>179.30</td>\n",
              "      <td>12722802</td>\n",
              "      <td>179.00</td>\n",
              "      <td>179.98</td>\n",
              "      <td>178.90</td>\n",
              "      <td>179.30</td>\n",
              "      <td>12722802</td>\n",
              "      <td>0.0</td>\n",
              "      <td>1.0</td>\n",
              "    </tr>\n",
              "  </tbody>\n",
              "</table>\n",
              "</div>\n",
              "      <button class=\"colab-df-convert\" onclick=\"convertToInteractive('df-4094cd69-98b3-4592-90b7-14490eada90c')\"\n",
              "              title=\"Convert this dataframe to an interactive table.\"\n",
              "              style=\"display:none;\">\n",
              "        \n",
              "  <svg xmlns=\"http://www.w3.org/2000/svg\" height=\"24px\"viewBox=\"0 0 24 24\"\n",
              "       width=\"24px\">\n",
              "    <path d=\"M0 0h24v24H0V0z\" fill=\"none\"/>\n",
              "    <path d=\"M18.56 5.44l.94 2.06.94-2.06 2.06-.94-2.06-.94-.94-2.06-.94 2.06-2.06.94zm-11 1L8.5 8.5l.94-2.06 2.06-.94-2.06-.94L8.5 2.5l-.94 2.06-2.06.94zm10 10l.94 2.06.94-2.06 2.06-.94-2.06-.94-.94-2.06-.94 2.06-2.06.94z\"/><path d=\"M17.41 7.96l-1.37-1.37c-.4-.4-.92-.59-1.43-.59-.52 0-1.04.2-1.43.59L10.3 9.45l-7.72 7.72c-.78.78-.78 2.05 0 2.83L4 21.41c.39.39.9.59 1.41.59.51 0 1.02-.2 1.41-.59l7.78-7.78 2.81-2.81c.8-.78.8-2.07 0-2.86zM5.41 20L4 18.59l7.72-7.72 1.47 1.35L5.41 20z\"/>\n",
              "  </svg>\n",
              "      </button>\n",
              "      \n",
              "  <style>\n",
              "    .colab-df-container {\n",
              "      display:flex;\n",
              "      flex-wrap:wrap;\n",
              "      gap: 12px;\n",
              "    }\n",
              "\n",
              "    .colab-df-convert {\n",
              "      background-color: #E8F0FE;\n",
              "      border: none;\n",
              "      border-radius: 50%;\n",
              "      cursor: pointer;\n",
              "      display: none;\n",
              "      fill: #1967D2;\n",
              "      height: 32px;\n",
              "      padding: 0 0 0 0;\n",
              "      width: 32px;\n",
              "    }\n",
              "\n",
              "    .colab-df-convert:hover {\n",
              "      background-color: #E2EBFA;\n",
              "      box-shadow: 0px 1px 2px rgba(60, 64, 67, 0.3), 0px 1px 3px 1px rgba(60, 64, 67, 0.15);\n",
              "      fill: #174EA6;\n",
              "    }\n",
              "\n",
              "    [theme=dark] .colab-df-convert {\n",
              "      background-color: #3B4455;\n",
              "      fill: #D2E3FC;\n",
              "    }\n",
              "\n",
              "    [theme=dark] .colab-df-convert:hover {\n",
              "      background-color: #434B5C;\n",
              "      box-shadow: 0px 1px 3px 1px rgba(0, 0, 0, 0.15);\n",
              "      filter: drop-shadow(0px 1px 2px rgba(0, 0, 0, 0.3));\n",
              "      fill: #FFFFFF;\n",
              "    }\n",
              "  </style>\n",
              "\n",
              "      <script>\n",
              "        const buttonEl =\n",
              "          document.querySelector('#df-4094cd69-98b3-4592-90b7-14490eada90c button.colab-df-convert');\n",
              "        buttonEl.style.display =\n",
              "          google.colab.kernel.accessAllowed ? 'block' : 'none';\n",
              "\n",
              "        async function convertToInteractive(key) {\n",
              "          const element = document.querySelector('#df-4094cd69-98b3-4592-90b7-14490eada90c');\n",
              "          const dataTable =\n",
              "            await google.colab.kernel.invokeFunction('convertToInteractive',\n",
              "                                                     [key], {});\n",
              "          if (!dataTable) return;\n",
              "\n",
              "          const docLinkHtml = 'Like what you see? Visit the ' +\n",
              "            '<a target=\"_blank\" href=https://colab.research.google.com/notebooks/data_table.ipynb>data table notebook</a>'\n",
              "            + ' to learn more about interactive tables.';\n",
              "          element.innerHTML = '';\n",
              "          dataTable['output_type'] = 'display_data';\n",
              "          await google.colab.output.renderOutput(dataTable, element);\n",
              "          const docLink = document.createElement('div');\n",
              "          docLink.innerHTML = docLinkHtml;\n",
              "          element.appendChild(docLink);\n",
              "        }\n",
              "      </script>\n",
              "    </div>\n",
              "  </div>\n",
              "  "
            ]
          },
          "metadata": {},
          "execution_count": 6
        }
      ]
    },
    {
      "cell_type": "code",
      "source": [
        "df.tail(200)"
      ],
      "metadata": {
        "colab": {
          "base_uri": "https://localhost:8080/",
          "height": 641
        },
        "id": "Gy8S3c47_m_F",
        "outputId": "ced73f15-0ea5-47ad-bf2e-165c20cbf67e"
      },
      "execution_count": 7,
      "outputs": [
        {
          "output_type": "execute_result",
          "data": {
            "text/plain": [
              "     symbol                       date   close      high       low      open  \\\n",
              "1057   META  2022-01-26 00:00:00+00:00  294.63  307.5100  290.8500  307.0100   \n",
              "1058   META  2022-01-27 00:00:00+00:00  294.64  301.7090  294.2600  297.7520   \n",
              "1059   META  2022-01-28 00:00:00+00:00  301.71  301.9000  293.0333  295.6204   \n",
              "1060   META  2022-01-31 00:00:00+00:00  313.26  313.7900  299.3200  300.6800   \n",
              "1061   META  2022-02-01 00:00:00+00:00  319.00  319.6598  312.1200  314.5550   \n",
              "...     ...                        ...     ...       ...       ...       ...   \n",
              "1252   META  2022-11-03 00:00:00+00:00   88.91   90.4576   88.4100   90.0800   \n",
              "1253   META  2022-11-04 00:00:00+00:00   90.79   91.3900   88.0900   90.3500   \n",
              "1254   META  2022-11-07 00:00:00+00:00   96.72   96.8800   93.1000   94.7800   \n",
              "1255   META  2022-11-08 00:00:00+00:00   96.47   97.8000   94.7900   95.9200   \n",
              "1256   META  2022-11-09 00:00:00+00:00  101.47  104.9000  100.7400  101.7200   \n",
              "\n",
              "         volume  adjClose   adjHigh    adjLow   adjOpen  adjVolume  divCash  \\\n",
              "1057   28348801    294.63  307.5100  290.8500  307.0100   28348801      0.0   \n",
              "1058   21629922    294.64  301.7090  294.2600  297.7520   21629922      0.0   \n",
              "1059   21871620    301.71  301.9000  293.0333  295.6204   21871620      0.0   \n",
              "1060   21579474    313.26  313.7900  299.3200  300.6800   21579474      0.0   \n",
              "1061   18023796    319.00  319.6598  312.1200  314.5550   18023796      0.0   \n",
              "...         ...       ...       ...       ...       ...        ...      ...   \n",
              "1252   60664012     88.91   90.4576   88.4100   90.0800   60664012      0.0   \n",
              "1253   55638061     90.79   91.3900   88.0900   90.3500   55638061      0.0   \n",
              "1254   81987295     96.72   96.8800   93.1000   94.7800   81987295      0.0   \n",
              "1255   52088320     96.47   97.8000   94.7900   95.9200   52088320      0.0   \n",
              "1256  107677284    101.47  104.9000  100.7400  101.7200  107677284      0.0   \n",
              "\n",
              "      splitFactor  \n",
              "1057          1.0  \n",
              "1058          1.0  \n",
              "1059          1.0  \n",
              "1060          1.0  \n",
              "1061          1.0  \n",
              "...           ...  \n",
              "1252          1.0  \n",
              "1253          1.0  \n",
              "1254          1.0  \n",
              "1255          1.0  \n",
              "1256          1.0  \n",
              "\n",
              "[200 rows x 14 columns]"
            ],
            "text/html": [
              "\n",
              "  <div id=\"df-640433ec-039d-44ed-9048-9230bb20e9a2\">\n",
              "    <div class=\"colab-df-container\">\n",
              "      <div>\n",
              "<style scoped>\n",
              "    .dataframe tbody tr th:only-of-type {\n",
              "        vertical-align: middle;\n",
              "    }\n",
              "\n",
              "    .dataframe tbody tr th {\n",
              "        vertical-align: top;\n",
              "    }\n",
              "\n",
              "    .dataframe thead th {\n",
              "        text-align: right;\n",
              "    }\n",
              "</style>\n",
              "<table border=\"1\" class=\"dataframe\">\n",
              "  <thead>\n",
              "    <tr style=\"text-align: right;\">\n",
              "      <th></th>\n",
              "      <th>symbol</th>\n",
              "      <th>date</th>\n",
              "      <th>close</th>\n",
              "      <th>high</th>\n",
              "      <th>low</th>\n",
              "      <th>open</th>\n",
              "      <th>volume</th>\n",
              "      <th>adjClose</th>\n",
              "      <th>adjHigh</th>\n",
              "      <th>adjLow</th>\n",
              "      <th>adjOpen</th>\n",
              "      <th>adjVolume</th>\n",
              "      <th>divCash</th>\n",
              "      <th>splitFactor</th>\n",
              "    </tr>\n",
              "  </thead>\n",
              "  <tbody>\n",
              "    <tr>\n",
              "      <th>1057</th>\n",
              "      <td>META</td>\n",
              "      <td>2022-01-26 00:00:00+00:00</td>\n",
              "      <td>294.63</td>\n",
              "      <td>307.5100</td>\n",
              "      <td>290.8500</td>\n",
              "      <td>307.0100</td>\n",
              "      <td>28348801</td>\n",
              "      <td>294.63</td>\n",
              "      <td>307.5100</td>\n",
              "      <td>290.8500</td>\n",
              "      <td>307.0100</td>\n",
              "      <td>28348801</td>\n",
              "      <td>0.0</td>\n",
              "      <td>1.0</td>\n",
              "    </tr>\n",
              "    <tr>\n",
              "      <th>1058</th>\n",
              "      <td>META</td>\n",
              "      <td>2022-01-27 00:00:00+00:00</td>\n",
              "      <td>294.64</td>\n",
              "      <td>301.7090</td>\n",
              "      <td>294.2600</td>\n",
              "      <td>297.7520</td>\n",
              "      <td>21629922</td>\n",
              "      <td>294.64</td>\n",
              "      <td>301.7090</td>\n",
              "      <td>294.2600</td>\n",
              "      <td>297.7520</td>\n",
              "      <td>21629922</td>\n",
              "      <td>0.0</td>\n",
              "      <td>1.0</td>\n",
              "    </tr>\n",
              "    <tr>\n",
              "      <th>1059</th>\n",
              "      <td>META</td>\n",
              "      <td>2022-01-28 00:00:00+00:00</td>\n",
              "      <td>301.71</td>\n",
              "      <td>301.9000</td>\n",
              "      <td>293.0333</td>\n",
              "      <td>295.6204</td>\n",
              "      <td>21871620</td>\n",
              "      <td>301.71</td>\n",
              "      <td>301.9000</td>\n",
              "      <td>293.0333</td>\n",
              "      <td>295.6204</td>\n",
              "      <td>21871620</td>\n",
              "      <td>0.0</td>\n",
              "      <td>1.0</td>\n",
              "    </tr>\n",
              "    <tr>\n",
              "      <th>1060</th>\n",
              "      <td>META</td>\n",
              "      <td>2022-01-31 00:00:00+00:00</td>\n",
              "      <td>313.26</td>\n",
              "      <td>313.7900</td>\n",
              "      <td>299.3200</td>\n",
              "      <td>300.6800</td>\n",
              "      <td>21579474</td>\n",
              "      <td>313.26</td>\n",
              "      <td>313.7900</td>\n",
              "      <td>299.3200</td>\n",
              "      <td>300.6800</td>\n",
              "      <td>21579474</td>\n",
              "      <td>0.0</td>\n",
              "      <td>1.0</td>\n",
              "    </tr>\n",
              "    <tr>\n",
              "      <th>1061</th>\n",
              "      <td>META</td>\n",
              "      <td>2022-02-01 00:00:00+00:00</td>\n",
              "      <td>319.00</td>\n",
              "      <td>319.6598</td>\n",
              "      <td>312.1200</td>\n",
              "      <td>314.5550</td>\n",
              "      <td>18023796</td>\n",
              "      <td>319.00</td>\n",
              "      <td>319.6598</td>\n",
              "      <td>312.1200</td>\n",
              "      <td>314.5550</td>\n",
              "      <td>18023796</td>\n",
              "      <td>0.0</td>\n",
              "      <td>1.0</td>\n",
              "    </tr>\n",
              "    <tr>\n",
              "      <th>...</th>\n",
              "      <td>...</td>\n",
              "      <td>...</td>\n",
              "      <td>...</td>\n",
              "      <td>...</td>\n",
              "      <td>...</td>\n",
              "      <td>...</td>\n",
              "      <td>...</td>\n",
              "      <td>...</td>\n",
              "      <td>...</td>\n",
              "      <td>...</td>\n",
              "      <td>...</td>\n",
              "      <td>...</td>\n",
              "      <td>...</td>\n",
              "      <td>...</td>\n",
              "    </tr>\n",
              "    <tr>\n",
              "      <th>1252</th>\n",
              "      <td>META</td>\n",
              "      <td>2022-11-03 00:00:00+00:00</td>\n",
              "      <td>88.91</td>\n",
              "      <td>90.4576</td>\n",
              "      <td>88.4100</td>\n",
              "      <td>90.0800</td>\n",
              "      <td>60664012</td>\n",
              "      <td>88.91</td>\n",
              "      <td>90.4576</td>\n",
              "      <td>88.4100</td>\n",
              "      <td>90.0800</td>\n",
              "      <td>60664012</td>\n",
              "      <td>0.0</td>\n",
              "      <td>1.0</td>\n",
              "    </tr>\n",
              "    <tr>\n",
              "      <th>1253</th>\n",
              "      <td>META</td>\n",
              "      <td>2022-11-04 00:00:00+00:00</td>\n",
              "      <td>90.79</td>\n",
              "      <td>91.3900</td>\n",
              "      <td>88.0900</td>\n",
              "      <td>90.3500</td>\n",
              "      <td>55638061</td>\n",
              "      <td>90.79</td>\n",
              "      <td>91.3900</td>\n",
              "      <td>88.0900</td>\n",
              "      <td>90.3500</td>\n",
              "      <td>55638061</td>\n",
              "      <td>0.0</td>\n",
              "      <td>1.0</td>\n",
              "    </tr>\n",
              "    <tr>\n",
              "      <th>1254</th>\n",
              "      <td>META</td>\n",
              "      <td>2022-11-07 00:00:00+00:00</td>\n",
              "      <td>96.72</td>\n",
              "      <td>96.8800</td>\n",
              "      <td>93.1000</td>\n",
              "      <td>94.7800</td>\n",
              "      <td>81987295</td>\n",
              "      <td>96.72</td>\n",
              "      <td>96.8800</td>\n",
              "      <td>93.1000</td>\n",
              "      <td>94.7800</td>\n",
              "      <td>81987295</td>\n",
              "      <td>0.0</td>\n",
              "      <td>1.0</td>\n",
              "    </tr>\n",
              "    <tr>\n",
              "      <th>1255</th>\n",
              "      <td>META</td>\n",
              "      <td>2022-11-08 00:00:00+00:00</td>\n",
              "      <td>96.47</td>\n",
              "      <td>97.8000</td>\n",
              "      <td>94.7900</td>\n",
              "      <td>95.9200</td>\n",
              "      <td>52088320</td>\n",
              "      <td>96.47</td>\n",
              "      <td>97.8000</td>\n",
              "      <td>94.7900</td>\n",
              "      <td>95.9200</td>\n",
              "      <td>52088320</td>\n",
              "      <td>0.0</td>\n",
              "      <td>1.0</td>\n",
              "    </tr>\n",
              "    <tr>\n",
              "      <th>1256</th>\n",
              "      <td>META</td>\n",
              "      <td>2022-11-09 00:00:00+00:00</td>\n",
              "      <td>101.47</td>\n",
              "      <td>104.9000</td>\n",
              "      <td>100.7400</td>\n",
              "      <td>101.7200</td>\n",
              "      <td>107677284</td>\n",
              "      <td>101.47</td>\n",
              "      <td>104.9000</td>\n",
              "      <td>100.7400</td>\n",
              "      <td>101.7200</td>\n",
              "      <td>107677284</td>\n",
              "      <td>0.0</td>\n",
              "      <td>1.0</td>\n",
              "    </tr>\n",
              "  </tbody>\n",
              "</table>\n",
              "<p>200 rows × 14 columns</p>\n",
              "</div>\n",
              "      <button class=\"colab-df-convert\" onclick=\"convertToInteractive('df-640433ec-039d-44ed-9048-9230bb20e9a2')\"\n",
              "              title=\"Convert this dataframe to an interactive table.\"\n",
              "              style=\"display:none;\">\n",
              "        \n",
              "  <svg xmlns=\"http://www.w3.org/2000/svg\" height=\"24px\"viewBox=\"0 0 24 24\"\n",
              "       width=\"24px\">\n",
              "    <path d=\"M0 0h24v24H0V0z\" fill=\"none\"/>\n",
              "    <path d=\"M18.56 5.44l.94 2.06.94-2.06 2.06-.94-2.06-.94-.94-2.06-.94 2.06-2.06.94zm-11 1L8.5 8.5l.94-2.06 2.06-.94-2.06-.94L8.5 2.5l-.94 2.06-2.06.94zm10 10l.94 2.06.94-2.06 2.06-.94-2.06-.94-.94-2.06-.94 2.06-2.06.94z\"/><path d=\"M17.41 7.96l-1.37-1.37c-.4-.4-.92-.59-1.43-.59-.52 0-1.04.2-1.43.59L10.3 9.45l-7.72 7.72c-.78.78-.78 2.05 0 2.83L4 21.41c.39.39.9.59 1.41.59.51 0 1.02-.2 1.41-.59l7.78-7.78 2.81-2.81c.8-.78.8-2.07 0-2.86zM5.41 20L4 18.59l7.72-7.72 1.47 1.35L5.41 20z\"/>\n",
              "  </svg>\n",
              "      </button>\n",
              "      \n",
              "  <style>\n",
              "    .colab-df-container {\n",
              "      display:flex;\n",
              "      flex-wrap:wrap;\n",
              "      gap: 12px;\n",
              "    }\n",
              "\n",
              "    .colab-df-convert {\n",
              "      background-color: #E8F0FE;\n",
              "      border: none;\n",
              "      border-radius: 50%;\n",
              "      cursor: pointer;\n",
              "      display: none;\n",
              "      fill: #1967D2;\n",
              "      height: 32px;\n",
              "      padding: 0 0 0 0;\n",
              "      width: 32px;\n",
              "    }\n",
              "\n",
              "    .colab-df-convert:hover {\n",
              "      background-color: #E2EBFA;\n",
              "      box-shadow: 0px 1px 2px rgba(60, 64, 67, 0.3), 0px 1px 3px 1px rgba(60, 64, 67, 0.15);\n",
              "      fill: #174EA6;\n",
              "    }\n",
              "\n",
              "    [theme=dark] .colab-df-convert {\n",
              "      background-color: #3B4455;\n",
              "      fill: #D2E3FC;\n",
              "    }\n",
              "\n",
              "    [theme=dark] .colab-df-convert:hover {\n",
              "      background-color: #434B5C;\n",
              "      box-shadow: 0px 1px 3px 1px rgba(0, 0, 0, 0.15);\n",
              "      filter: drop-shadow(0px 1px 2px rgba(0, 0, 0, 0.3));\n",
              "      fill: #FFFFFF;\n",
              "    }\n",
              "  </style>\n",
              "\n",
              "      <script>\n",
              "        const buttonEl =\n",
              "          document.querySelector('#df-640433ec-039d-44ed-9048-9230bb20e9a2 button.colab-df-convert');\n",
              "        buttonEl.style.display =\n",
              "          google.colab.kernel.accessAllowed ? 'block' : 'none';\n",
              "\n",
              "        async function convertToInteractive(key) {\n",
              "          const element = document.querySelector('#df-640433ec-039d-44ed-9048-9230bb20e9a2');\n",
              "          const dataTable =\n",
              "            await google.colab.kernel.invokeFunction('convertToInteractive',\n",
              "                                                     [key], {});\n",
              "          if (!dataTable) return;\n",
              "\n",
              "          const docLinkHtml = 'Like what you see? Visit the ' +\n",
              "            '<a target=\"_blank\" href=https://colab.research.google.com/notebooks/data_table.ipynb>data table notebook</a>'\n",
              "            + ' to learn more about interactive tables.';\n",
              "          element.innerHTML = '';\n",
              "          dataTable['output_type'] = 'display_data';\n",
              "          await google.colab.output.renderOutput(dataTable, element);\n",
              "          const docLink = document.createElement('div');\n",
              "          docLink.innerHTML = docLinkHtml;\n",
              "          element.appendChild(docLink);\n",
              "        }\n",
              "      </script>\n",
              "    </div>\n",
              "  </div>\n",
              "  "
            ]
          },
          "metadata": {},
          "execution_count": 7
        }
      ]
    },
    {
      "cell_type": "code",
      "source": [
        "df2 = df.reset_index()['close']\n",
        "# getting close column value from dataframe"
      ],
      "metadata": {
        "id": "78VIixyR_C2z"
      },
      "execution_count": 8,
      "outputs": []
    },
    {
      "cell_type": "code",
      "source": [
        "df2.tail()"
      ],
      "metadata": {
        "colab": {
          "base_uri": "https://localhost:8080/"
        },
        "id": "kCoQLJHQ_DhO",
        "outputId": "e4cfd312-a6c7-4676-ec30-a4087a808be5"
      },
      "execution_count": 9,
      "outputs": [
        {
          "output_type": "execute_result",
          "data": {
            "text/plain": [
              "1252     88.91\n",
              "1253     90.79\n",
              "1254     96.72\n",
              "1255     96.47\n",
              "1256    101.47\n",
              "Name: close, dtype: float64"
            ]
          },
          "metadata": {},
          "execution_count": 9
        }
      ]
    },
    {
      "cell_type": "code",
      "source": [
        "df2.shape"
      ],
      "metadata": {
        "colab": {
          "base_uri": "https://localhost:8080/"
        },
        "id": "IoUMNhnD_zTq",
        "outputId": "61697fb3-c56d-4c42-e8b8-0fca0d189ca9"
      },
      "execution_count": 10,
      "outputs": [
        {
          "output_type": "execute_result",
          "data": {
            "text/plain": [
              "(1257,)"
            ]
          },
          "metadata": {},
          "execution_count": 10
        }
      ]
    },
    {
      "cell_type": "code",
      "source": [
        "import matplotlib.pyplot as plt\n",
        "plt.plot(df2)"
      ],
      "metadata": {
        "colab": {
          "base_uri": "https://localhost:8080/",
          "height": 282
        },
        "id": "ItSKsgxD_294",
        "outputId": "62baedea-72b3-4dd9-d2eb-b308f843ba70"
      },
      "execution_count": 11,
      "outputs": [
        {
          "output_type": "execute_result",
          "data": {
            "text/plain": [
              "[<matplotlib.lines.Line2D at 0x7f9bd527fed0>]"
            ]
          },
          "metadata": {},
          "execution_count": 11
        },
        {
          "output_type": "display_data",
          "data": {
            "text/plain": [
              "<Figure size 432x288 with 1 Axes>"
            ],
            "image/png": "[encoded data removed]"
          },
          "metadata": {
            "needs_background": "light"
          }
        }
      ]
    },
    {
      "cell_type": "code",
      "source": [
        "# LSTM are very sensitive to scale of the data, so we apply MinMax scaler (0,1)\n",
        "import numpy as np\n",
        "from sklearn.preprocessing import MinMaxScaler\\\n",
        "\n",
        "scaler = MinMaxScaler(feature_range=(0,1))\n",
        "df1 = scaler.fit_transform(np.array(df2).reshape(-1,1))"
      ],
      "metadata": {
        "id": "0S31oZfArD2s"
      },
      "execution_count": 12,
      "outputs": []
    },
    {
      "cell_type": "code",
      "source": [
        "plt.plot(df1)"
      ],
      "metadata": {
        "colab": {
          "base_uri": "https://localhost:8080/",
          "height": 282
        },
        "id": "Qa87HmNLl0hY",
        "outputId": "32621c52-1f53-45b1-e812-da6a3a8d7ea4"
      },
      "execution_count": 13,
      "outputs": [
        {
          "output_type": "execute_result",
          "data": {
            "text/plain": [
              "[<matplotlib.lines.Line2D at 0x7f9bc8b19290>]"
            ]
          },
          "metadata": {},
          "execution_count": 13
        },
        {
          "output_type": "display_data",
          "data": {
            "text/plain": [
              "<Figure size 432x288 with 1 Axes>"
            ],
            "image/png": "[encoded data removed]"
          },
          "metadata": {
            "needs_background": "light"
          }
        }
      ]
    },
    {
      "cell_type": "code",
      "source": [
        "df1.shape"
      ],
      "metadata": {
        "colab": {
          "base_uri": "https://localhost:8080/"
        },
        "id": "-h3xHtfuw10R",
        "outputId": "716fd4a2-ba26-4bf8-8d9c-9554818b66fd"
      },
      "execution_count": 14,
      "outputs": [
        {
          "output_type": "execute_result",
          "data": {
            "text/plain": [
              "(1257, 1)"
            ]
          },
          "metadata": {},
          "execution_count": 14
        }
      ]
    },
    {
      "cell_type": "code",
      "source": [
        "#train-test split\n",
        "\n",
        "train_size = int(len(df1)*0.65)\n",
        "test_size = len(df1) - train_size\n",
        "train_data, test_data = df1[0:train_size,:],df1[train_size:,:]"
      ],
      "metadata": {
        "id": "YzAMS42Lw3Uz"
      },
      "execution_count": 15,
      "outputs": []
    },
    {
      "cell_type": "code",
      "source": [
        "train_data.shape"
      ],
      "metadata": {
        "colab": {
          "base_uri": "https://localhost:8080/"
        },
        "id": "QiCIyMmw16ym",
        "outputId": "3bf13a4b-a387-47af-9ee5-b1f248e3ceb6"
      },
      "execution_count": 16,
      "outputs": [
        {
          "output_type": "execute_result",
          "data": {
            "text/plain": [
              "(817, 1)"
            ]
          },
          "metadata": {},
          "execution_count": 16
        }
      ]
    },
    {
      "cell_type": "code",
      "source": [
        "test_data.shape"
      ],
      "metadata": {
        "colab": {
          "base_uri": "https://localhost:8080/"
        },
        "id": "5r9rkoTU1-RL",
        "outputId": "8f9ad4cb-b5da-41d7-cd3b-450dfecc2e32"
      },
      "execution_count": 17,
      "outputs": [
        {
          "output_type": "execute_result",
          "data": {
            "text/plain": [
              "(440, 1)"
            ]
          },
          "metadata": {},
          "execution_count": 17
        }
      ]
    },
    {
      "cell_type": "code",
      "source": [
        "# Create dataset of number of elemets to be considererd \n",
        "import numpy\n",
        "def create_dataset(dataset,time_step=1):\n",
        "  dataX,dataY = [], []\n",
        "  for i in range(len(dataset)-time_step-1):\n",
        "    a = dataset[i:(i+time_step),0]\n",
        "    dataX.append(a)\n",
        "    dataY.append(dataset[i + time_step,0])\n",
        "  return numpy.array(dataX), numpy.array(dataY)"
      ],
      "metadata": {
        "id": "sUMd-pC62BZE"
      },
      "execution_count": 18,
      "outputs": []
    },
    {
      "cell_type": "code",
      "source": [
        "# consider previous 100 days for todays prediction\n",
        "time_step = 100\n",
        "\n",
        "# creating both train and test\n",
        "X_train, y_train = create_dataset(train_data,time_step)\n",
        "X_test, y_test = create_dataset(test_data,time_step)"
      ],
      "metadata": {
        "id": "gnSOhtyv69qI"
      },
      "execution_count": 19,
      "outputs": []
    },
    {
      "cell_type": "code",
      "source": [
        "print(X_train)"
      ],
      "metadata": {
        "colab": {
          "base_uri": "https://localhost:8080/"
        },
        "id": "3BFKnNm-Dpep",
        "outputId": "0a929152-d1a6-48a7-9950-ce58fb2b8146"
      },
      "execution_count": 20,
      "outputs": [
        {
          "output_type": "stream",
          "name": "stdout",
          "text": [
            "[[0.30640707 0.30402019 0.30361101 ... 0.24015412 0.23285709 0.23534627]\n",
            " [0.30402019 0.30361101 0.30920312 ... 0.23285709 0.23534627 0.25959014]\n",
            " [0.30361101 0.30920312 0.30719133 ... 0.23534627 0.25959014 0.26395472]\n",
            " ...\n",
            " [0.62573738 0.59538991 0.56572442 ... 0.60606267 0.6055171  0.61100692]\n",
            " [0.59538991 0.56572442 0.55791591 ... 0.6055171  0.61100692 0.60582398]\n",
            " [0.56572442 0.55791591 0.54298087 ... 0.61100692 0.60582398 0.61561019]]\n"
          ]
        }
      ]
    },
    {
      "cell_type": "code",
      "source": [
        "X_train.shape"
      ],
      "metadata": {
        "colab": {
          "base_uri": "https://localhost:8080/"
        },
        "id": "tWI9y5giD53e",
        "outputId": "8c3efd87-5fe0-4456-8923-e14ce947cdf7"
      },
      "execution_count": 21,
      "outputs": [
        {
          "output_type": "execute_result",
          "data": {
            "text/plain": [
              "(716, 100)"
            ]
          },
          "metadata": {},
          "execution_count": 21
        }
      ]
    },
    {
      "cell_type": "code",
      "source": [
        "y_test.shape"
      ],
      "metadata": {
        "colab": {
          "base_uri": "https://localhost:8080/"
        },
        "id": "rnLyLDNIEOxn",
        "outputId": "b6d5add1-d88b-48d6-ee42-c689b7a5304d"
      },
      "execution_count": 22,
      "outputs": [
        {
          "output_type": "execute_result",
          "data": {
            "text/plain": [
              "(339,)"
            ]
          },
          "metadata": {},
          "execution_count": 22
        }
      ]
    },
    {
      "cell_type": "code",
      "source": [
        "y_train.shape"
      ],
      "metadata": {
        "colab": {
          "base_uri": "https://localhost:8080/"
        },
        "id": "0lcSiqyaESSQ",
        "outputId": "1904e1ad-cccf-4e5b-bc72-0aa7cffe8203"
      },
      "execution_count": 23,
      "outputs": [
        {
          "output_type": "execute_result",
          "data": {
            "text/plain": [
              "(716,)"
            ]
          },
          "metadata": {},
          "execution_count": 23
        }
      ]
    },
    {
      "cell_type": "code",
      "source": [
        "# reshape input to [samples,time steps, features] which is required for LSTM\n",
        "X_train = X_train.reshape(X_train.shape[0],X_train.shape[1],1)\n",
        "X_test = X_test.reshape(X_test.shape[0],X_test.shape[1],1)"
      ],
      "metadata": {
        "id": "BO0QYtXNEZb6"
      },
      "execution_count": 24,
      "outputs": []
    },
    {
      "cell_type": "code",
      "source": [
        "#create stack lstm model\n",
        "\n",
        "from tensorflow.keras.models import Sequential\n",
        "from tensorflow.keras.layers import Dense\n",
        "from tensorflow.keras.layers import LSTM"
      ],
      "metadata": {
        "id": "N6BzkcH9IPl3"
      },
      "execution_count": 25,
      "outputs": []
    },
    {
      "cell_type": "code",
      "source": [
        "model = Sequential()\n",
        "model.add(LSTM(50,return_sequences=True,input_shape=(100,1)))\n",
        "model.add(LSTM(50,return_sequences=True))\n",
        "model.add(LSTM(50))\n",
        "model.add(Dense(1))\n",
        "model.compile(loss='mean_squared_error',optimizer='adam')"
      ],
      "metadata": {
        "id": "HQtbglIpJRfU"
      },
      "execution_count": 26,
      "outputs": []
    },
    {
      "cell_type": "code",
      "source": [
        "model.summary()"
      ],
      "metadata": {
        "colab": {
          "base_uri": "https://localhost:8080/"
        },
        "id": "RUQDWtV2KPLU",
        "outputId": "9070d4e7-ab88-4754-9ed4-af4c9696e1b7"
      },
      "execution_count": 27,
      "outputs": [
        {
          "output_type": "stream",
          "name": "stdout",
          "text": [
            "Model: \"sequential\"\n",
            "_________________________________________________________________\n",
            " Layer (type)                Output Shape              Param #   \n",
            "=================================================================\n",
            " lstm (LSTM)                 (None, 100, 50)           10400     \n",
            "                                                                 \n",
            " lstm_1 (LSTM)               (None, 100, 50)           20200     \n",
            "                                                                 \n",
            " lstm_2 (LSTM)               (None, 50)                20200     \n",
            "                                                                 \n",
            " dense (Dense)               (None, 1)                 51        \n",
            "                                                                 \n",
            "=================================================================\n",
            "Total params: 50,851\n",
            "Trainable params: 50,851\n",
            "Non-trainable params: 0\n",
            "_________________________________________________________________\n"
          ]
        }
      ]
    },
    {
      "cell_type": "code",
      "source": [
        "model.fit(X_train,y_train,validation_data=(X_test,y_test),epochs=100,batch_size=64,verbose=1)"
      ],
      "metadata": {
        "colab": {
          "base_uri": "https://localhost:8080/"
        },
        "id": "mAjI-n2BKUDs",
        "outputId": "db537d83-9261-4c00-abcc-e9773d83ee86"
      },
      "execution_count": 28,
      "outputs": [
        {
          "output_type": "stream",
          "name": "stdout",
          "text": [
            "Epoch 1/100\n",
            "12/12 [==============================] - 10s 119ms/step - loss: 0.0641 - val_loss: 0.0187\n",
            "Epoch 2/100\n",
            "12/12 [==============================] - 0s 23ms/step - loss: 0.0083 - val_loss: 0.0182\n",
            "Epoch 3/100\n",
            "12/12 [==============================] - 0s 18ms/step - loss: 0.0054 - val_loss: 0.0233\n",
            "Epoch 4/100\n",
            "12/12 [==============================] - 0s 18ms/step - loss: 0.0034 - val_loss: 0.0087\n",
            "Epoch 5/100\n",
            "12/12 [==============================] - 0s 18ms/step - loss: 0.0022 - val_loss: 0.0064\n",
            "Epoch 6/100\n",
            "12/12 [==============================] - 0s 19ms/step - loss: 0.0018 - val_loss: 0.0067\n",
            "Epoch 7/100\n",
            "12/12 [==============================] - 0s 19ms/step - loss: 0.0018 - val_loss: 0.0073\n",
            "Epoch 8/100\n",
            "12/12 [==============================] - 0s 19ms/step - loss: 0.0017 - val_loss: 0.0068\n",
            "Epoch 9/100\n",
            "12/12 [==============================] - 0s 18ms/step - loss: 0.0016 - val_loss: 0.0066\n",
            "Epoch 10/100\n",
            "12/12 [==============================] - 0s 19ms/step - loss: 0.0017 - val_loss: 0.0071\n",
            "Epoch 11/100\n",
            "12/12 [==============================] - 0s 19ms/step - loss: 0.0016 - val_loss: 0.0073\n",
            "Epoch 12/100\n",
            "12/12 [==============================] - 0s 19ms/step - loss: 0.0016 - val_loss: 0.0049\n",
            "Epoch 13/100\n",
            "12/12 [==============================] - 0s 19ms/step - loss: 0.0015 - val_loss: 0.0038\n",
            "Epoch 14/100\n",
            "12/12 [==============================] - 0s 18ms/step - loss: 0.0016 - val_loss: 0.0037\n",
            "Epoch 15/100\n",
            "12/12 [==============================] - 0s 18ms/step - loss: 0.0015 - val_loss: 0.0053\n",
            "Epoch 16/100\n",
            "12/12 [==============================] - 0s 20ms/step - loss: 0.0014 - val_loss: 0.0071\n",
            "Epoch 17/100\n",
            "12/12 [==============================] - 0s 19ms/step - loss: 0.0014 - val_loss: 0.0045\n",
            "Epoch 18/100\n",
            "12/12 [==============================] - 0s 19ms/step - loss: 0.0013 - val_loss: 0.0050\n",
            "Epoch 19/100\n",
            "12/12 [==============================] - 0s 19ms/step - loss: 0.0013 - val_loss: 0.0034\n",
            "Epoch 20/100\n",
            "12/12 [==============================] - 0s 20ms/step - loss: 0.0012 - val_loss: 0.0042\n",
            "Epoch 21/100\n",
            "12/12 [==============================] - 0s 18ms/step - loss: 0.0012 - val_loss: 0.0038\n",
            "Epoch 22/100\n",
            "12/12 [==============================] - 0s 19ms/step - loss: 0.0013 - val_loss: 0.0032\n",
            "Epoch 23/100\n",
            "12/12 [==============================] - 0s 18ms/step - loss: 0.0012 - val_loss: 0.0030\n",
            "Epoch 24/100\n",
            "12/12 [==============================] - 0s 19ms/step - loss: 0.0013 - val_loss: 0.0039\n",
            "Epoch 25/100\n",
            "12/12 [==============================] - 0s 21ms/step - loss: 0.0012 - val_loss: 0.0045\n",
            "Epoch 26/100\n",
            "12/12 [==============================] - 0s 18ms/step - loss: 0.0012 - val_loss: 0.0029\n",
            "Epoch 27/100\n",
            "12/12 [==============================] - 0s 19ms/step - loss: 0.0011 - val_loss: 0.0040\n",
            "Epoch 28/100\n",
            "12/12 [==============================] - 0s 19ms/step - loss: 0.0012 - val_loss: 0.0028\n",
            "Epoch 29/100\n",
            "12/12 [==============================] - 0s 19ms/step - loss: 0.0012 - val_loss: 0.0028\n",
            "Epoch 30/100\n",
            "12/12 [==============================] - 0s 19ms/step - loss: 0.0011 - val_loss: 0.0028\n",
            "Epoch 31/100\n",
            "12/12 [==============================] - 0s 18ms/step - loss: 0.0010 - val_loss: 0.0031\n",
            "Epoch 32/100\n",
            "12/12 [==============================] - 0s 18ms/step - loss: 0.0010 - val_loss: 0.0027\n",
            "Epoch 33/100\n",
            "12/12 [==============================] - 0s 20ms/step - loss: 0.0010 - val_loss: 0.0027\n",
            "Epoch 34/100\n",
            "12/12 [==============================] - 0s 18ms/step - loss: 0.0011 - val_loss: 0.0055\n",
            "Epoch 35/100\n",
            "12/12 [==============================] - 0s 18ms/step - loss: 0.0012 - val_loss: 0.0026\n",
            "Epoch 36/100\n",
            "12/12 [==============================] - 0s 18ms/step - loss: 0.0010 - val_loss: 0.0027\n",
            "Epoch 37/100\n",
            "12/12 [==============================] - 0s 18ms/step - loss: 0.0010 - val_loss: 0.0028\n",
            "Epoch 38/100\n",
            "12/12 [==============================] - 0s 19ms/step - loss: 9.6070e-04 - val_loss: 0.0026\n",
            "Epoch 39/100\n",
            "12/12 [==============================] - 0s 19ms/step - loss: 9.5352e-04 - val_loss: 0.0035\n",
            "Epoch 40/100\n",
            "12/12 [==============================] - 0s 18ms/step - loss: 9.5655e-04 - val_loss: 0.0025\n",
            "Epoch 41/100\n",
            "12/12 [==============================] - 0s 19ms/step - loss: 9.4909e-04 - val_loss: 0.0030\n",
            "Epoch 42/100\n",
            "12/12 [==============================] - 0s 20ms/step - loss: 9.5385e-04 - val_loss: 0.0025\n",
            "Epoch 43/100\n",
            "12/12 [==============================] - 0s 30ms/step - loss: 0.0011 - val_loss: 0.0028\n",
            "Epoch 44/100\n",
            "12/12 [==============================] - 0s 31ms/step - loss: 9.4879e-04 - val_loss: 0.0024\n",
            "Epoch 45/100\n",
            "12/12 [==============================] - 0s 19ms/step - loss: 8.9684e-04 - val_loss: 0.0024\n",
            "Epoch 46/100\n",
            "12/12 [==============================] - 0s 19ms/step - loss: 9.5056e-04 - val_loss: 0.0026\n",
            "Epoch 47/100\n",
            "12/12 [==============================] - 0s 18ms/step - loss: 8.5634e-04 - val_loss: 0.0026\n",
            "Epoch 48/100\n",
            "12/12 [==============================] - 0s 18ms/step - loss: 8.9587e-04 - val_loss: 0.0024\n",
            "Epoch 49/100\n",
            "12/12 [==============================] - 0s 18ms/step - loss: 8.6997e-04 - val_loss: 0.0023\n",
            "Epoch 50/100\n",
            "12/12 [==============================] - 0s 19ms/step - loss: 8.6039e-04 - val_loss: 0.0027\n",
            "Epoch 51/100\n",
            "12/12 [==============================] - 0s 18ms/step - loss: 9.0284e-04 - val_loss: 0.0027\n",
            "Epoch 52/100\n",
            "12/12 [==============================] - 0s 20ms/step - loss: 8.4362e-04 - val_loss: 0.0022\n",
            "Epoch 53/100\n",
            "12/12 [==============================] - 0s 18ms/step - loss: 8.5884e-04 - val_loss: 0.0025\n",
            "Epoch 54/100\n",
            "12/12 [==============================] - 0s 18ms/step - loss: 8.0004e-04 - val_loss: 0.0022\n",
            "Epoch 55/100\n",
            "12/12 [==============================] - 0s 18ms/step - loss: 8.1018e-04 - val_loss: 0.0023\n",
            "Epoch 56/100\n",
            "12/12 [==============================] - 0s 19ms/step - loss: 8.6392e-04 - val_loss: 0.0023\n",
            "Epoch 57/100\n",
            "12/12 [==============================] - 0s 19ms/step - loss: 7.7173e-04 - val_loss: 0.0022\n",
            "Epoch 58/100\n",
            "12/12 [==============================] - 0s 18ms/step - loss: 8.4554e-04 - val_loss: 0.0022\n",
            "Epoch 59/100\n",
            "12/12 [==============================] - 0s 18ms/step - loss: 7.5869e-04 - val_loss: 0.0030\n",
            "Epoch 60/100\n",
            "12/12 [==============================] - 0s 19ms/step - loss: 7.9219e-04 - val_loss: 0.0020\n",
            "Epoch 61/100\n",
            "12/12 [==============================] - 0s 18ms/step - loss: 7.7071e-04 - val_loss: 0.0042\n",
            "Epoch 62/100\n",
            "12/12 [==============================] - 0s 19ms/step - loss: 8.5074e-04 - val_loss: 0.0020\n",
            "Epoch 63/100\n",
            "12/12 [==============================] - 0s 18ms/step - loss: 7.2307e-04 - val_loss: 0.0033\n",
            "Epoch 64/100\n",
            "12/12 [==============================] - 0s 19ms/step - loss: 8.9999e-04 - val_loss: 0.0020\n",
            "Epoch 65/100\n",
            "12/12 [==============================] - 0s 18ms/step - loss: 7.4370e-04 - val_loss: 0.0020\n",
            "Epoch 66/100\n",
            "12/12 [==============================] - 0s 19ms/step - loss: 7.1732e-04 - val_loss: 0.0021\n",
            "Epoch 67/100\n",
            "12/12 [==============================] - 0s 20ms/step - loss: 7.1901e-04 - val_loss: 0.0020\n",
            "Epoch 68/100\n",
            "12/12 [==============================] - 0s 20ms/step - loss: 6.9822e-04 - val_loss: 0.0019\n",
            "Epoch 69/100\n",
            "12/12 [==============================] - 0s 19ms/step - loss: 6.7242e-04 - val_loss: 0.0019\n",
            "Epoch 70/100\n",
            "12/12 [==============================] - 0s 19ms/step - loss: 6.6373e-04 - val_loss: 0.0022\n",
            "Epoch 71/100\n",
            "12/12 [==============================] - 0s 19ms/step - loss: 6.4592e-04 - val_loss: 0.0018\n",
            "Epoch 72/100\n",
            "12/12 [==============================] - 0s 19ms/step - loss: 7.1400e-04 - val_loss: 0.0025\n",
            "Epoch 73/100\n",
            "12/12 [==============================] - 0s 19ms/step - loss: 9.6346e-04 - val_loss: 0.0029\n",
            "Epoch 74/100\n",
            "12/12 [==============================] - 0s 18ms/step - loss: 8.6715e-04 - val_loss: 0.0020\n",
            "Epoch 75/100\n",
            "12/12 [==============================] - 0s 19ms/step - loss: 8.6690e-04 - val_loss: 0.0018\n",
            "Epoch 76/100\n",
            "12/12 [==============================] - 0s 18ms/step - loss: 6.9156e-04 - val_loss: 0.0027\n",
            "Epoch 77/100\n",
            "12/12 [==============================] - 0s 19ms/step - loss: 7.8742e-04 - val_loss: 0.0022\n",
            "Epoch 78/100\n",
            "12/12 [==============================] - 0s 18ms/step - loss: 6.8454e-04 - val_loss: 0.0018\n",
            "Epoch 79/100\n",
            "12/12 [==============================] - 0s 18ms/step - loss: 5.8474e-04 - val_loss: 0.0019\n",
            "Epoch 80/100\n",
            "12/12 [==============================] - 0s 18ms/step - loss: 6.0719e-04 - val_loss: 0.0017\n",
            "Epoch 81/100\n",
            "12/12 [==============================] - 0s 19ms/step - loss: 5.7698e-04 - val_loss: 0.0016\n",
            "Epoch 82/100\n",
            "12/12 [==============================] - 0s 19ms/step - loss: 5.4627e-04 - val_loss: 0.0017\n",
            "Epoch 83/100\n",
            "12/12 [==============================] - 0s 20ms/step - loss: 5.3023e-04 - val_loss: 0.0017\n",
            "Epoch 84/100\n",
            "12/12 [==============================] - 0s 20ms/step - loss: 6.2748e-04 - val_loss: 0.0021\n",
            "Epoch 85/100\n",
            "12/12 [==============================] - 0s 18ms/step - loss: 5.4837e-04 - val_loss: 0.0016\n",
            "Epoch 86/100\n",
            "12/12 [==============================] - 0s 34ms/step - loss: 5.1256e-04 - val_loss: 0.0017\n",
            "Epoch 87/100\n",
            "12/12 [==============================] - 0s 18ms/step - loss: 6.3684e-04 - val_loss: 0.0019\n",
            "Epoch 88/100\n",
            "12/12 [==============================] - 0s 19ms/step - loss: 5.6860e-04 - val_loss: 0.0017\n",
            "Epoch 89/100\n",
            "12/12 [==============================] - 0s 19ms/step - loss: 5.6911e-04 - val_loss: 0.0015\n",
            "Epoch 90/100\n",
            "12/12 [==============================] - 0s 19ms/step - loss: 4.8510e-04 - val_loss: 0.0014\n",
            "Epoch 91/100\n",
            "12/12 [==============================] - 0s 18ms/step - loss: 4.7333e-04 - val_loss: 0.0014\n",
            "Epoch 92/100\n",
            "12/12 [==============================] - 0s 18ms/step - loss: 4.6084e-04 - val_loss: 0.0018\n",
            "Epoch 93/100\n",
            "12/12 [==============================] - 0s 21ms/step - loss: 4.9172e-04 - val_loss: 0.0014\n",
            "Epoch 94/100\n",
            "12/12 [==============================] - 0s 19ms/step - loss: 4.4688e-04 - val_loss: 0.0014\n",
            "Epoch 95/100\n",
            "12/12 [==============================] - 0s 18ms/step - loss: 4.8782e-04 - val_loss: 0.0016\n",
            "Epoch 96/100\n",
            "12/12 [==============================] - 0s 18ms/step - loss: 6.4245e-04 - val_loss: 0.0021\n",
            "Epoch 97/100\n",
            "12/12 [==============================] - 0s 19ms/step - loss: 6.2007e-04 - val_loss: 0.0015\n",
            "Epoch 98/100\n",
            "12/12 [==============================] - 0s 18ms/step - loss: 6.3122e-04 - val_loss: 0.0020\n",
            "Epoch 99/100\n",
            "12/12 [==============================] - 0s 19ms/step - loss: 5.0230e-04 - val_loss: 0.0013\n",
            "Epoch 100/100\n",
            "12/12 [==============================] - 0s 21ms/step - loss: 4.4500e-04 - val_loss: 0.0013\n"
          ]
        },
        {
          "output_type": "execute_result",
          "data": {
            "text/plain": [
              "<keras.callbacks.History at 0x7f9b0a3d7b90>"
            ]
          },
          "metadata": {},
          "execution_count": 28
        }
      ]
    },
    {
      "cell_type": "code",
      "source": [
        "train_predict = model.predict(X_train)\n",
        "test_predict = model.predict(X_test)"
      ],
      "metadata": {
        "colab": {
          "base_uri": "https://localhost:8080/"
        },
        "id": "FVKoVyoJK_OU",
        "outputId": "6c4de645-ebd1-40e8-94d4-77ad58924127"
      },
      "execution_count": 29,
      "outputs": [
        {
          "output_type": "stream",
          "name": "stdout",
          "text": [
            "23/23 [==============================] - 1s 9ms/step\n",
            "11/11 [==============================] - 0s 7ms/step\n"
          ]
        }
      ]
    },
    {
      "cell_type": "code",
      "source": [
        "train_predict = scaler.inverse_transform(train_predict)\n",
        "test_predict = scaler.inverse_transform(test_predict)"
      ],
      "metadata": {
        "id": "x2W9MVSFQhdm"
      },
      "execution_count": 30,
      "outputs": []
    },
    {
      "cell_type": "code",
      "source": [
        "#Calculate RMSE performance metrics\n",
        "import math\n",
        "from sklearn.metrics import mean_squared_error\n",
        "\n",
        "#train data RMSE\n",
        "math.sqrt(mean_squared_error(y_train,train_predict))"
      ],
      "metadata": {
        "colab": {
          "base_uri": "https://localhost:8080/"
        },
        "id": "GesWLma_RHsF",
        "outputId": "8a6121fd-095d-4146-ed23-1f43fa7b6d4e"
      },
      "execution_count": 31,
      "outputs": [
        {
          "output_type": "execute_result",
          "data": {
            "text/plain": [
              "201.88827501147512"
            ]
          },
          "metadata": {},
          "execution_count": 31
        }
      ]
    },
    {
      "cell_type": "code",
      "source": [
        "#test data RMSE\n",
        "math.sqrt(mean_squared_error(y_test,test_predict))"
      ],
      "metadata": {
        "colab": {
          "base_uri": "https://localhost:8080/"
        },
        "id": "Mboc9GWlRt_w",
        "outputId": "c57b1aaf-8ddd-4199-d60e-b39d843e7684"
      },
      "execution_count": 32,
      "outputs": [
        {
          "output_type": "execute_result",
          "data": {
            "text/plain": [
              "259.0402008573655"
            ]
          },
          "metadata": {},
          "execution_count": 32
        }
      ]
    },
    {
      "cell_type": "code",
      "source": [
        "# Plotting\n",
        "# shift train predictions for plotting\n",
        "look_back = 100\n",
        "trainPredictPlot = numpy.empty_like(df1)\n",
        "trainPredictPlot[:,:] = np.nan\n",
        "trainPredictPlot[look_back:len(train_predict)+look_back,:] = train_predict\n",
        "\n",
        "# shift test predictions for plotting\n",
        "testPredictPlot = numpy.empty_like(df1)\n",
        "testPredictPlot[:,:] = np.nan\n",
        "testPredictPlot[len(train_predict)+(look_back*2)+1:len(df1)-1,:] = test_predict\n",
        "\n",
        "#plot\n",
        "plt.plot(scaler.inverse_transform(df1))\n",
        "plt.plot(trainPredictPlot)\n",
        "plt.plot(testPredictPlot)\n",
        "plt.show()"
      ],
      "metadata": {
        "colab": {
          "base_uri": "https://localhost:8080/",
          "height": 265
        },
        "id": "U66YGJTQSOtK",
        "outputId": "17e344a7-5878-465c-db64-8dabd613758d"
      },
      "execution_count": 33,
      "outputs": [
        {
          "output_type": "display_data",
          "data": {
            "text/plain": [
              "<Figure size 432x288 with 1 Axes>"
            ],
            "image/png": "[encoded data removed]"
          },
          "metadata": {
            "needs_background": "light"
          }
        }
      ]
    },
    {
      "cell_type": "code",
      "source": [
        "len(test_data)"
      ],
      "metadata": {
        "colab": {
          "base_uri": "https://localhost:8080/"
        },
        "id": "EbQurpsSVhqO",
        "outputId": "254e6930-a106-404b-d9b5-5e0f204aae00"
      },
      "execution_count": 34,
      "outputs": [
        {
          "output_type": "execute_result",
          "data": {
            "text/plain": [
              "440"
            ]
          },
          "metadata": {},
          "execution_count": 34
        }
      ]
    },
    {
      "cell_type": "code",
      "source": [
        "x_input = test_data[340:].reshape(1,-1)\n",
        "x_input.shape"
      ],
      "metadata": {
        "colab": {
          "base_uri": "https://localhost:8080/"
        },
        "id": "H13olC9LWNqH",
        "outputId": "2a056177-6d87-4024-b569-fc3a41f62c10"
      },
      "execution_count": 39,
      "outputs": [
        {
          "output_type": "execute_result",
          "data": {
            "text/plain": [
              "(1, 100)"
            ]
          },
          "metadata": {},
          "execution_count": 39
        }
      ]
    },
    {
      "cell_type": "code",
      "source": [
        "temp_list = list(x_input)\n",
        "temp_list = temp_list[0].tolist()\n",
        "temp_list"
      ],
      "metadata": {
        "id": "Xk9oE3_QWbYq"
      },
      "execution_count": null,
      "outputs": []
    },
    {
      "cell_type": "code",
      "source": [
        "# prediction for next 30 days\n",
        "from numpy import array\n",
        "\n",
        "lst_output = []\n",
        "n_steps = 100\n",
        "i = 0\n",
        "while(i<30):\n",
        "  if(len(temp_list)>100):\n",
        "    x_input = np.array(temp_list[1:])\n",
        "    # print(\"{} day input {}\".format(i,x_input))\n",
        "    x_input = x_input.reshape(1,-1)\n",
        "    x_input = x_input.reshape((1,n_steps,1))\n",
        "\n",
        "    yhat = model.predict(x_input, verbose=0)\n",
        "    # print(\"{} day output {}\".format(i,yhat))\n",
        "    temp_list.extend(yhat[0].tolist())\n",
        "    temp_list = temp_list[1:]\n",
        "    \n",
        "    lst_output.extend(yhat.tolist())\n",
        "    i+=1\n",
        "  else:\n",
        "    x_input = x_input.reshape((1,n_steps,1))\n",
        "    yhat = model.predict(x_input,verbose=0)\n",
        "    # print(yhat[0])\n",
        "    temp_list.extend(yhat[0].tolist())\n",
        "    # print(len(temp_list))\n",
        "    lst_output.extend(yhat.tolist())\n",
        "    i+=1\n",
        "# print(lst_output)"
      ],
      "metadata": {
        "id": "nGRDfiLcW20E"
      },
      "execution_count": 41,
      "outputs": []
    },
    {
      "cell_type": "code",
      "source": [
        "day_new = np.arange(1,101)\n",
        "day_pred = np.arange(101,131)"
      ],
      "metadata": {
        "id": "1yHRFc0YbJwb"
      },
      "execution_count": 42,
      "outputs": []
    },
    {
      "cell_type": "code",
      "source": [
        "len(df1)"
      ],
      "metadata": {
        "colab": {
          "base_uri": "https://localhost:8080/"
        },
        "id": "YE61t2I5bfvr",
        "outputId": "773f6494-828d-49b8-ab6a-00b8411e33bd"
      },
      "execution_count": 43,
      "outputs": [
        {
          "output_type": "execute_result",
          "data": {
            "text/plain": [
              "1257"
            ]
          },
          "metadata": {},
          "execution_count": 43
        }
      ]
    },
    {
      "cell_type": "code",
      "source": [
        "df3 = df1.tolist()\n",
        "df3.extend(lst_output)\n",
        "plt.plot(df3)"
      ],
      "metadata": {
        "colab": {
          "base_uri": "https://localhost:8080/",
          "height": 282
        },
        "id": "KSStO6oVblUe",
        "outputId": "9c1472d8-3d4e-425d-b628-e65c94ae7c16"
      },
      "execution_count": 44,
      "outputs": [
        {
          "output_type": "execute_result",
          "data": {
            "text/plain": [
              "[<matplotlib.lines.Line2D at 0x7f9b05391d50>]"
            ]
          },
          "metadata": {},
          "execution_count": 44
        },
        {
          "output_type": "display_data",
          "data": {
            "text/plain": [
              "<Figure size 432x288 with 1 Axes>"
            ],
            "image/png": "[encoded data removed]"
          },
          "metadata": {
            "needs_background": "light"
          }
        }
      ]
    },
    {
      "cell_type": "code",
      "source": [
        "plt.plot(day_new,scaler.inverse_transform(df1[1157:]))\n",
        "plt.plot(day_pred,scaler.inverse_transform(lst_output))"
      ],
      "metadata": {
        "colab": {
          "base_uri": "https://localhost:8080/",
          "height": 282
        },
        "id": "avFaP1Tcb73F",
        "outputId": "03c4434b-1d93-4d37-bfa5-7b0ad77d5bd9"
      },
      "execution_count": 45,
      "outputs": [
        {
          "output_type": "execute_result",
          "data": {
            "text/plain": [
              "[<matplotlib.lines.Line2D at 0x7f9b054ae290>]"
            ]
          },
          "metadata": {},
          "execution_count": 45
        },
        {
          "output_type": "display_data",
          "data": {
            "text/plain": [
              "<Figure size 432x288 with 1 Axes>"
            ],
            "image/png": "[encoded data removed]"
          },
          "metadata": {
            "needs_background": "light"
          }
        }
      ]
    },
    {
      "cell_type": "code",
      "source": [
        "df3"
      ],
      "metadata": {
        "id": "fYpXWJJNcbDM"
      },
      "execution_count": null,
      "outputs": []
    },
    {
      "cell_type": "code",
      "source": [
        "lst_output"
      ],
      "metadata": {
        "id": "4-a2rWZxpfNN"
      },
      "execution_count": null,
      "outputs": []
    },
    {
      "cell_type": "code",
      "source": [
        "# predictions for next 30 days\n",
        "scaler.inverse_transform(lst_output)"
      ],
      "metadata": {
        "colab": {
          "base_uri": "https://localhost:8080/"
        },
        "id": "dbbVCre1pvon",
        "outputId": "7df05232-ccab-4b45-ef06-6d0174fe3efb"
      },
      "execution_count": 48,
      "outputs": [
        {
          "output_type": "execute_result",
          "data": {
            "text/plain": [
              "array([[ 96.82784938],\n",
              "       [ 97.70321626],\n",
              "       [ 98.5899464 ],\n",
              "       [ 99.41547325],\n",
              "       [100.18623447],\n",
              "       [100.92857935],\n",
              "       [101.66595874],\n",
              "       [102.4133423 ],\n",
              "       [103.17813838],\n",
              "       [103.96267623],\n",
              "       [104.76635713],\n",
              "       [105.58709112],\n",
              "       [106.42209336],\n",
              "       [107.26835726],\n",
              "       [108.12285982],\n",
              "       [108.98268075],\n",
              "       [109.84509968],\n",
              "       [110.70759508],\n",
              "       [111.5678989 ],\n",
              "       [112.42401183],\n",
              "       [113.27418584],\n",
              "       [114.11690671],\n",
              "       [114.95089838],\n",
              "       [115.77508581],\n",
              "       [116.58858843],\n",
              "       [117.39067427],\n",
              "       [118.18074898],\n",
              "       [118.95833842],\n",
              "       [119.72307551],\n",
              "       [120.47465214]])"
            ]
          },
          "metadata": {},
          "execution_count": 48
        }
      ]
    }
  ]
}